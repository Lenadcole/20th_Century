{
 "cells": [
  {
   "cell_type": "markdown",
   "id": "7f93e4e5-b725-453e-9ab8-fe8ee901be05",
   "metadata": {},
   "source": [
    "# NLP and Network Analysis"
   ]
  },
  {
   "cell_type": "markdown",
   "id": "5cadfd4b-a7af-435e-ae28-2059221994e4",
   "metadata": {},
   "source": [
    "## This script contains the following:\n",
    "\n",
    "### 1. Importing libraries and data\n",
    "\n",
    "### 2. Creating NER object\n",
    "\n",
    "### 3. Splitting sentence entities from the NER object\n",
    "\n",
    "### 4. Filtering entities\n",
    "\n",
    "### 5. Creating relationships dataframe\n",
    "\n",
    "### 6. Exporting data"
   ]
  },
  {
   "cell_type": "markdown",
   "id": "602f499b-6c9c-4486-8fb7-1ce8080337e0",
   "metadata": {},
   "source": [
    "### 1. Importing libraries and data"
   ]
  },
  {
   "cell_type": "code",
   "execution_count": 41,
   "id": "55604050-42e4-4efa-a661-6c0aa7385b25",
   "metadata": {},
   "outputs": [],
   "source": [
    "# Import libraries\n",
    "\n",
    "import pandas as pd\n",
    "import numpy as np\n",
    "import spacy\n",
    "from spacy import displacy\n",
    "import networkx as nx\n",
    "import os\n",
    "import matplotlib.pyplot as plt\n",
    "import scipy\n",
    "import re"
   ]
  },
  {
   "cell_type": "code",
   "execution_count": 42,
   "id": "2bc2a1fe-0c37-4b4c-ac17-0b251d5b352d",
   "metadata": {
    "scrolled": true
   },
   "outputs": [
    {
     "name": "stdout",
     "output_type": "stream",
     "text": [
      "Collecting en-core-web-sm==3.4.1\n",
      "  Downloading https://github.com/explosion/spacy-models/releases/download/en_core_web_sm-3.4.1/en_core_web_sm-3.4.1-py3-none-any.whl (12.8 MB)\n",
      "     ---------------------------------------- 0.0/12.8 MB ? eta -:--:--\n",
      "     ---------------------------------------- 0.0/12.8 MB ? eta -:--:--\n",
      "      --------------------------------------- 0.3/12.8 MB ? eta -:--:--\n",
      "     - ------------------------------------- 0.5/12.8 MB 932.9 kB/s eta 0:00:14\n",
      "     -- ------------------------------------- 0.8/12.8 MB 1.2 MB/s eta 0:00:10\n",
      "     ---- ----------------------------------- 1.3/12.8 MB 1.4 MB/s eta 0:00:09\n",
      "     ---- ----------------------------------- 1.6/12.8 MB 1.3 MB/s eta 0:00:09\n",
      "     ----- ---------------------------------- 1.8/12.8 MB 1.3 MB/s eta 0:00:09\n",
      "     ------ --------------------------------- 2.1/12.8 MB 1.4 MB/s eta 0:00:08\n",
      "     ------- -------------------------------- 2.4/12.8 MB 1.4 MB/s eta 0:00:08\n",
      "     -------- ------------------------------- 2.6/12.8 MB 1.3 MB/s eta 0:00:08\n",
      "     --------- ------------------------------ 2.9/12.8 MB 1.4 MB/s eta 0:00:08\n",
      "     --------- ------------------------------ 3.1/12.8 MB 1.4 MB/s eta 0:00:08\n",
      "     ----------- ---------------------------- 3.7/12.8 MB 1.4 MB/s eta 0:00:07\n",
      "     ------------ --------------------------- 3.9/12.8 MB 1.4 MB/s eta 0:00:07\n",
      "     ------------- -------------------------- 4.2/12.8 MB 1.4 MB/s eta 0:00:07\n",
      "     -------------- ------------------------- 4.7/12.8 MB 1.5 MB/s eta 0:00:06\n",
      "     --------------- ------------------------ 5.0/12.8 MB 1.4 MB/s eta 0:00:06\n",
      "     ---------------- ----------------------- 5.2/12.8 MB 1.4 MB/s eta 0:00:06\n",
      "     ----------------- ---------------------- 5.5/12.8 MB 1.5 MB/s eta 0:00:05\n",
      "     ------------------ --------------------- 5.8/12.8 MB 1.5 MB/s eta 0:00:05\n",
      "     ------------------ --------------------- 6.0/12.8 MB 1.4 MB/s eta 0:00:05\n",
      "     -------------------- ------------------- 6.6/12.8 MB 1.5 MB/s eta 0:00:05\n",
      "     --------------------- ------------------ 6.8/12.8 MB 1.5 MB/s eta 0:00:05\n",
      "     ---------------------- ----------------- 7.3/12.8 MB 1.5 MB/s eta 0:00:04\n",
      "     ----------------------- ---------------- 7.6/12.8 MB 1.5 MB/s eta 0:00:04\n",
      "     ------------------------ --------------- 7.9/12.8 MB 1.5 MB/s eta 0:00:04\n",
      "     -------------------------- ------------- 8.4/12.8 MB 1.5 MB/s eta 0:00:03\n",
      "     --------------------------- ------------ 8.7/12.8 MB 1.5 MB/s eta 0:00:03\n",
      "     ---------------------------- ----------- 9.2/12.8 MB 1.6 MB/s eta 0:00:03\n",
      "     ----------------------------- ---------- 9.4/12.8 MB 1.5 MB/s eta 0:00:03\n",
      "     ------------------------------- -------- 10.0/12.8 MB 1.6 MB/s eta 0:00:02\n",
      "     ------------------------------- -------- 10.2/12.8 MB 1.6 MB/s eta 0:00:02\n",
      "     -------------------------------- ------- 10.5/12.8 MB 1.6 MB/s eta 0:00:02\n",
      "     ---------------------------------- ----- 11.0/12.8 MB 1.6 MB/s eta 0:00:02\n",
      "     ----------------------------------- ---- 11.3/12.8 MB 1.6 MB/s eta 0:00:01\n",
      "     ------------------------------------ --- 11.5/12.8 MB 1.6 MB/s eta 0:00:01\n",
      "     ------------------------------------- -- 12.1/12.8 MB 1.6 MB/s eta 0:00:01\n",
      "     -------------------------------------- - 12.3/12.8 MB 1.6 MB/s eta 0:00:01\n",
      "     ---------------------------------------  12.6/12.8 MB 1.6 MB/s eta 0:00:01\n",
      "     ---------------------------------------- 12.8/12.8 MB 1.6 MB/s eta 0:00:00\n",
      "Requirement already satisfied: spacy<3.5.0,>=3.4.0 in c:\\users\\lenad\\anaconda3\\envs\\venv_20thcentury\\lib\\site-packages (from en-core-web-sm==3.4.1) (3.4.3)\n",
      "Requirement already satisfied: spacy-legacy<3.1.0,>=3.0.10 in c:\\users\\lenad\\anaconda3\\envs\\venv_20thcentury\\lib\\site-packages (from spacy<3.5.0,>=3.4.0->en-core-web-sm==3.4.1) (3.0.12)\n",
      "Requirement already satisfied: spacy-loggers<2.0.0,>=1.0.0 in c:\\users\\lenad\\anaconda3\\envs\\venv_20thcentury\\lib\\site-packages (from spacy<3.5.0,>=3.4.0->en-core-web-sm==3.4.1) (1.0.5)\n",
      "Requirement already satisfied: murmurhash<1.1.0,>=0.28.0 in c:\\users\\lenad\\anaconda3\\envs\\venv_20thcentury\\lib\\site-packages (from spacy<3.5.0,>=3.4.0->en-core-web-sm==3.4.1) (1.0.10)\n",
      "Requirement already satisfied: cymem<2.1.0,>=2.0.2 in c:\\users\\lenad\\anaconda3\\envs\\venv_20thcentury\\lib\\site-packages (from spacy<3.5.0,>=3.4.0->en-core-web-sm==3.4.1) (2.0.8)\n",
      "Requirement already satisfied: preshed<3.1.0,>=3.0.2 in c:\\users\\lenad\\anaconda3\\envs\\venv_20thcentury\\lib\\site-packages (from spacy<3.5.0,>=3.4.0->en-core-web-sm==3.4.1) (3.0.9)\n",
      "Requirement already satisfied: thinc<8.2.0,>=8.1.0 in c:\\users\\lenad\\anaconda3\\envs\\venv_20thcentury\\lib\\site-packages (from spacy<3.5.0,>=3.4.0->en-core-web-sm==3.4.1) (8.1.12)\n",
      "Requirement already satisfied: wasabi<1.1.0,>=0.9.1 in c:\\users\\lenad\\anaconda3\\envs\\venv_20thcentury\\lib\\site-packages (from spacy<3.5.0,>=3.4.0->en-core-web-sm==3.4.1) (0.10.1)\n",
      "Requirement already satisfied: srsly<3.0.0,>=2.4.3 in c:\\users\\lenad\\anaconda3\\envs\\venv_20thcentury\\lib\\site-packages (from spacy<3.5.0,>=3.4.0->en-core-web-sm==3.4.1) (2.4.8)\n",
      "Requirement already satisfied: catalogue<2.1.0,>=2.0.6 in c:\\users\\lenad\\anaconda3\\envs\\venv_20thcentury\\lib\\site-packages (from spacy<3.5.0,>=3.4.0->en-core-web-sm==3.4.1) (2.0.10)\n",
      "Requirement already satisfied: typer<0.8.0,>=0.3.0 in c:\\users\\lenad\\anaconda3\\envs\\venv_20thcentury\\lib\\site-packages (from spacy<3.5.0,>=3.4.0->en-core-web-sm==3.4.1) (0.7.0)\n",
      "Requirement already satisfied: pathy>=0.3.5 in c:\\users\\lenad\\anaconda3\\envs\\venv_20thcentury\\lib\\site-packages (from spacy<3.5.0,>=3.4.0->en-core-web-sm==3.4.1) (0.11.0)\n",
      "Requirement already satisfied: tqdm<5.0.0,>=4.38.0 in c:\\users\\lenad\\anaconda3\\envs\\venv_20thcentury\\lib\\site-packages (from spacy<3.5.0,>=3.4.0->en-core-web-sm==3.4.1) (4.66.5)\n",
      "Requirement already satisfied: numpy>=1.15.0 in c:\\users\\lenad\\anaconda3\\envs\\venv_20thcentury\\lib\\site-packages (from spacy<3.5.0,>=3.4.0->en-core-web-sm==3.4.1) (1.25.2)\n",
      "Requirement already satisfied: requests<3.0.0,>=2.13.0 in c:\\users\\lenad\\anaconda3\\envs\\venv_20thcentury\\lib\\site-packages (from spacy<3.5.0,>=3.4.0->en-core-web-sm==3.4.1) (2.28.1)\n",
      "Requirement already satisfied: pydantic!=1.8,!=1.8.1,<1.11.0,>=1.7.4 in c:\\users\\lenad\\anaconda3\\envs\\venv_20thcentury\\lib\\site-packages (from spacy<3.5.0,>=3.4.0->en-core-web-sm==3.4.1) (1.10.18)\n",
      "Requirement already satisfied: jinja2 in c:\\users\\lenad\\anaconda3\\envs\\venv_20thcentury\\lib\\site-packages (from spacy<3.5.0,>=3.4.0->en-core-web-sm==3.4.1) (3.1.4)\n",
      "Requirement already satisfied: setuptools in c:\\users\\lenad\\anaconda3\\envs\\venv_20thcentury\\lib\\site-packages (from spacy<3.5.0,>=3.4.0->en-core-web-sm==3.4.1) (75.1.0)\n",
      "Requirement already satisfied: packaging>=20.0 in c:\\users\\lenad\\anaconda3\\envs\\venv_20thcentury\\lib\\site-packages (from spacy<3.5.0,>=3.4.0->en-core-web-sm==3.4.1) (24.1)\n",
      "Requirement already satisfied: langcodes<4.0.0,>=3.2.0 in c:\\users\\lenad\\anaconda3\\envs\\venv_20thcentury\\lib\\site-packages (from spacy<3.5.0,>=3.4.0->en-core-web-sm==3.4.1) (3.4.1)\n",
      "Requirement already satisfied: language-data>=1.2 in c:\\users\\lenad\\anaconda3\\envs\\venv_20thcentury\\lib\\site-packages (from langcodes<4.0.0,>=3.2.0->spacy<3.5.0,>=3.4.0->en-core-web-sm==3.4.1) (1.2.0)\n",
      "Requirement already satisfied: smart-open<7.0.0,>=5.2.1 in c:\\users\\lenad\\anaconda3\\envs\\venv_20thcentury\\lib\\site-packages (from pathy>=0.3.5->spacy<3.5.0,>=3.4.0->en-core-web-sm==3.4.1) (6.4.0)\n",
      "Requirement already satisfied: pathlib-abc==0.1.1 in c:\\users\\lenad\\anaconda3\\envs\\venv_20thcentury\\lib\\site-packages (from pathy>=0.3.5->spacy<3.5.0,>=3.4.0->en-core-web-sm==3.4.1) (0.1.1)\n",
      "Requirement already satisfied: typing-extensions>=4.2.0 in c:\\users\\lenad\\anaconda3\\envs\\venv_20thcentury\\lib\\site-packages (from pydantic!=1.8,!=1.8.1,<1.11.0,>=1.7.4->spacy<3.5.0,>=3.4.0->en-core-web-sm==3.4.1) (4.12.2)\n",
      "Requirement already satisfied: charset-normalizer<3,>=2 in c:\\users\\lenad\\anaconda3\\envs\\venv_20thcentury\\lib\\site-packages (from requests<3.0.0,>=2.13.0->spacy<3.5.0,>=3.4.0->en-core-web-sm==3.4.1) (2.1.1)\n",
      "Requirement already satisfied: idna<4,>=2.5 in c:\\users\\lenad\\anaconda3\\envs\\venv_20thcentury\\lib\\site-packages (from requests<3.0.0,>=2.13.0->spacy<3.5.0,>=3.4.0->en-core-web-sm==3.4.1) (3.10)\n",
      "Requirement already satisfied: urllib3<1.27,>=1.21.1 in c:\\users\\lenad\\anaconda3\\envs\\venv_20thcentury\\lib\\site-packages (from requests<3.0.0,>=2.13.0->spacy<3.5.0,>=3.4.0->en-core-web-sm==3.4.1) (1.26.20)\n",
      "Requirement already satisfied: certifi>=2017.4.17 in c:\\users\\lenad\\anaconda3\\envs\\venv_20thcentury\\lib\\site-packages (from requests<3.0.0,>=2.13.0->spacy<3.5.0,>=3.4.0->en-core-web-sm==3.4.1) (2024.8.30)\n",
      "Requirement already satisfied: blis<0.8.0,>=0.7.8 in c:\\users\\lenad\\anaconda3\\envs\\venv_20thcentury\\lib\\site-packages (from thinc<8.2.0,>=8.1.0->spacy<3.5.0,>=3.4.0->en-core-web-sm==3.4.1) (0.7.11)\n",
      "Requirement already satisfied: confection<1.0.0,>=0.0.1 in c:\\users\\lenad\\anaconda3\\envs\\venv_20thcentury\\lib\\site-packages (from thinc<8.2.0,>=8.1.0->spacy<3.5.0,>=3.4.0->en-core-web-sm==3.4.1) (0.1.5)\n",
      "Requirement already satisfied: colorama in c:\\users\\lenad\\anaconda3\\envs\\venv_20thcentury\\lib\\site-packages (from tqdm<5.0.0,>=4.38.0->spacy<3.5.0,>=3.4.0->en-core-web-sm==3.4.1) (0.4.6)\n",
      "Requirement already satisfied: click<9.0.0,>=7.1.1 in c:\\users\\lenad\\anaconda3\\envs\\venv_20thcentury\\lib\\site-packages (from typer<0.8.0,>=0.3.0->spacy<3.5.0,>=3.4.0->en-core-web-sm==3.4.1) (8.1.7)\n",
      "Requirement already satisfied: MarkupSafe>=2.0 in c:\\users\\lenad\\anaconda3\\envs\\venv_20thcentury\\lib\\site-packages (from jinja2->spacy<3.5.0,>=3.4.0->en-core-web-sm==3.4.1) (3.0.2)\n",
      "Requirement already satisfied: marisa-trie>=0.7.7 in c:\\users\\lenad\\anaconda3\\envs\\venv_20thcentury\\lib\\site-packages (from language-data>=1.2->langcodes<4.0.0,>=3.2.0->spacy<3.5.0,>=3.4.0->en-core-web-sm==3.4.1) (1.2.1)\n",
      "[+] Download and installation successful\n",
      "You can now load the package via spacy.load('en_core_web_sm')\n"
     ]
    }
   ],
   "source": [
    "# Download Spacy English module\n",
    "\n",
    "!python -m spacy download en_core_web_sm"
   ]
  },
  {
   "cell_type": "code",
   "execution_count": 43,
   "id": "698f7ae2-f80a-4450-8477-07e3beeac2e5",
   "metadata": {},
   "outputs": [],
   "source": [
    "# Load Spacy English module\n",
    "\n",
    "NER = spacy.load('en_core_web_sm')"
   ]
  },
  {
   "cell_type": "code",
   "execution_count": 44,
   "id": "4bae7e65-a670-4919-b4d3-edecaf89764a",
   "metadata": {},
   "outputs": [],
   "source": [
    "# Import article data\n",
    "\n",
    "with open('20th_century_Wiki_Lena_Cole.txt', 'r', errors='ignore') as file:\n",
    "          data = file.read().replace('\\n', '')"
   ]
  },
  {
   "cell_type": "code",
   "execution_count": 45,
   "id": "f45168b2-3f89-444b-acf2-88a5d5d3aeee",
   "metadata": {},
   "outputs": [],
   "source": [
    "# Import countries data\n",
    "\n",
    "import csv\n",
    "\n",
    "csv_file_path = 'countries_list_20th_century.csv'\n",
    "with open(csv_file_path, 'r') as file:\n",
    "    csv_reader = csv.reader(file)\n",
    "    data_list = []\n",
    "    for row in csv_reader:\n",
    "        data_list.append(row)"
   ]
  },
  {
   "cell_type": "code",
   "execution_count": 46,
   "id": "21a0dd81-50d0-439c-ae0b-86befc08327b",
   "metadata": {
    "scrolled": true
   },
   "outputs": [
    {
     "name": "stdout",
     "output_type": "stream",
     "text": [
      "['country_name']\n",
      "['Afghanistan']\n",
      "['Albania']\n",
      "['Algeria']\n",
      "['Andorra']\n",
      "['Angola']\n",
      "['Antigua and Barbuda']\n",
      "['Argentina']\n",
      "['Armenia']\n",
      "['Australia']\n",
      "['Austria']\n",
      "['Azerbaijan']\n",
      "['Bahamas, The']\n",
      "['Bahrain']\n",
      "['Bangladesh']\n",
      "['Barbados']\n",
      "['Belarus']\n",
      "['Belgium']\n",
      "['Belize']\n",
      "['Benin']\n",
      "['Bhutan']\n",
      "['Bolivia']\n",
      "['Bosnia and Herzegovina']\n",
      "['Botswana']\n",
      "['Brazil']\n",
      "['Brunei']\n",
      "['Bulgaria']\n",
      "['Burkina Faso']\n",
      "['Burundi']\n",
      "['Cambodia']\n",
      "['Cameroon']\n",
      "['Canada']\n",
      "['Cape Verde']\n",
      "['Central African Republic']\n",
      "['Chad']\n",
      "['Chile']\n",
      "[\"China, People's Republic of\"]\n",
      "['Colombia']\n",
      "['Comoros']\n",
      "['Congo, Democratic Republic of the']\n",
      "['Congo, Republic of the']\n",
      "['Costa Rica']\n",
      "['Croatia']\n",
      "['Cuba']\n",
      "['Cyprus']\n",
      "['Czech Republic']\n",
      "['Denmark']\n",
      "['Djibouti']\n",
      "['Dominica']\n",
      "['Dominican Republic']\n",
      "['East Timor']\n",
      "['Ecuador']\n",
      "['Egypt']\n",
      "['El Salvador']\n",
      "['Equatorial Guinea']\n",
      "['Eritrea']\n",
      "['Estonia']\n",
      "['Eswatini']\n",
      "['Ethiopia']\n",
      "['Fiji']\n",
      "['Finland']\n",
      "['France']\n",
      "['Gabon']\n",
      "['Gambia, The']\n",
      "['Georgia']\n",
      "['Germany']\n",
      "['Ghana']\n",
      "['Greece']\n",
      "['Grenada']\n",
      "['Guatemala']\n",
      "['Guinea']\n",
      "['Guinea']\n",
      "['Bissau']\n",
      "['Guyana']\n",
      "['Haiti']\n",
      "['Honduras']\n",
      "['Hungary']\n",
      "['Iceland']\n",
      "['India']\n",
      "['Indonesia']\n",
      "['Iran']\n",
      "['Iraq']\n",
      "['Ireland']\n",
      "['Israel']\n",
      "['Italy']\n",
      "['Ivory Coast']\n",
      "['Jamaica']\n",
      "['Japan']\n",
      "['Jordan']\n",
      "['Kazakhstan']\n",
      "['Kenya']\n",
      "['Kiribati']\n",
      "['Korea, North']\n",
      "['Korea, South']\n",
      "['Kuwait']\n",
      "['Kyrgyzstan']\n",
      "['Laos']\n",
      "['Latvia']\n",
      "['Lebanon']\n",
      "['Lesotho']\n",
      "['Liberia']\n",
      "['Libya']\n",
      "['Liechtenstein']\n",
      "['Lithuania']\n",
      "['Luxembourg']\n",
      "['Madagascar']\n",
      "['Malawi']\n",
      "['Malaysia']\n",
      "['Maldives']\n",
      "['Mali']\n",
      "['Malta']\n",
      "['Marshall Islands']\n",
      "['Mauritania']\n",
      "['Mauritius']\n",
      "['Mexico']\n",
      "['Micronesia, Federated States of']\n",
      "['Moldova']\n",
      "['Monaco']\n",
      "['Mongolia']\n",
      "['Montenegro']\n",
      "['Morocco']\n",
      "['Mozambique']\n",
      "['Myanmar']\n",
      "['Namibia']\n",
      "['Nauru']\n",
      "['Nepal']\n",
      "['Netherlands']\n",
      "['New Zealand']\n",
      "['Nicaragua']\n",
      "['Niger']\n",
      "['Nigeria']\n",
      "['North Macedonia']\n",
      "['Norway']\n",
      "['Oman']\n",
      "['Pakistan']\n",
      "['Palau']\n",
      "['Palestine']\n",
      "['Panama']\n",
      "['Papua New Guinea']\n",
      "['Paraguay']\n",
      "['Peru']\n",
      "['Philippines']\n",
      "['Poland']\n",
      "['Portugal']\n",
      "['Qatar']\n",
      "['Romania']\n",
      "['Russia']\n",
      "['Rwanda']\n",
      "['Saint Kitts and Nevis']\n",
      "['Saint Lucia']\n",
      "['Saint Vincent and the Grenadines']\n",
      "['Samoa']\n",
      "['San Marino']\n",
      "['SÃ£o TomÃ© and PrÃ\\xadncipe']\n",
      "['Saudi Arabia']\n",
      "['Senegal']\n",
      "['Serbia']\n",
      "['Seychelles']\n",
      "['Sierra Leone']\n",
      "['Singapore']\n",
      "['Slovakia']\n",
      "['Slovenia']\n",
      "['Solomon Islands']\n",
      "['Somalia']\n",
      "['South Africa']\n",
      "['South Sudan']\n",
      "['Spain']\n",
      "['Sri Lanka']\n",
      "['Sudan']\n",
      "['Suriname']\n",
      "['Sweden']\n",
      "['Switzerland']\n",
      "['Syria']\n",
      "['Tajikistan']\n",
      "['Tanzania']\n",
      "['Thailand']\n",
      "['Togo']\n",
      "['Tonga']\n",
      "['Trinidad and Tobago']\n",
      "['Tunisia']\n",
      "['Turkey']\n",
      "['Turkmenistan']\n",
      "['Tuvalu']\n",
      "['Uganda']\n",
      "['Ukraine']\n",
      "['United Arab Emirates']\n",
      "['United Kingdom']\n",
      "['United States']\n",
      "['Uruguay']\n",
      "['Uzbekistan']\n",
      "['Vanuatu']\n",
      "['Vatican City (Holy See)']\n",
      "['Venezuela']\n",
      "['Vietnam']\n",
      "['Yemen']\n",
      "['Zambia']\n",
      "['Zimbabwe']\n",
      "['Abkhazia']\n",
      "['Artsakh']\n",
      "['Cook Islands']\n",
      "[\"Donetsk People's Republic\"]\n",
      "['Kosovo']\n",
      "[\"Luhansk People's Republic\"]\n",
      "['Niue']\n",
      "['Northern Cyprus']\n",
      "['Sahrawi Arab Democratic Republic']\n",
      "['Somaliland']\n",
      "['South Ossetia']\n",
      "['Taiwan']\n",
      "['Transnistria']\n"
     ]
    }
   ],
   "source": [
    "for row in data_list:\n",
    "    print(row)"
   ]
  },
  {
   "cell_type": "markdown",
   "id": "6dcf83a7-ceb9-4702-a7a1-19979c2cabae",
   "metadata": {},
   "source": [
    "### 2. Creating NER object"
   ]
  },
  {
   "cell_type": "code",
   "execution_count": null,
   "id": "0a2bade1-4ab7-49e2-b80d-8ed5b7b2e441",
   "metadata": {},
   "outputs": [],
   "source": [
    "# Create NER object\n",
    "\n",
    "article = NER(data)"
   ]
  },
  {
   "cell_type": "code",
   "execution_count": null,
   "id": "50d5787b-7c29-4b5f-9f89-160610a14f86",
   "metadata": {
    "scrolled": true
   },
   "outputs": [],
   "source": [
    "displacy.render(article, style = 'ent', jupyter = True)"
   ]
  },
  {
   "cell_type": "code",
   "execution_count": null,
   "id": "b4eb60ca-cd8d-4a6c-9ed2-661baf611fdb",
   "metadata": {
    "scrolled": true
   },
   "outputs": [],
   "source": [
    "displacy.render(article, options = {'ents': ['GPE']}, style = 'ent', jupyter = True)"
   ]
  },
  {
   "cell_type": "markdown",
   "id": "ec599ad6-78b0-4b7d-859a-bf56f7d37c47",
   "metadata": {},
   "source": [
    "I have approached this exercise in a slightly different order to the directions given. In order to evaluate whether the text needed wrangling, I wanted to check the names of the countries used in the article against my list. What I found confirmed what I already believed - several countries have been created or have changed in the last century, such as Yugoslavia and Czechoslovakia. There were empires and unions that existed at the beginning of the 20th century that no longer do so in 2024, such as the Soviet Union and the British, Austro-Hungarian and Ottoman Empires. Also, as I noted in a previous task, the article refers to Britain, as opposed to the United Kingdom. Britain is the geographical term referring to the island that is home to England, Scotland and Wales, while the United Kingdom describees the political unit containing those countries, plus Northern Ireland. \n",
    "\n",
    "The simplest way to address this is to add these entities to the countries list. I would not want to replace any countries with the empire or union names, as the changes happen over the course of the article, meaning what was correct at the beginning would be incorrect by the end. As both terms are used in the article, I will add Britain to the countries list in addition to the United Kingdom."
   ]
  },
  {
   "cell_type": "code",
   "execution_count": null,
   "id": "c11e6a9f-2e59-4744-b574-be953469bc6a",
   "metadata": {},
   "outputs": [],
   "source": [
    "# Add country/empire/union names to list.\n",
    "# This was done separately as otherwise each name was placed in a different column)\n",
    "\n",
    "data_list.append(['British Empire'])"
   ]
  },
  {
   "cell_type": "code",
   "execution_count": null,
   "id": "8df266b4-8e88-4e53-b614-a925f397c555",
   "metadata": {},
   "outputs": [],
   "source": [
    "data_list.append(['Britain'])"
   ]
  },
  {
   "cell_type": "code",
   "execution_count": null,
   "id": "b1d40838-17b3-4917-8e7f-becb154a6141",
   "metadata": {},
   "outputs": [],
   "source": [
    "data_list.append(['Ottoman Empire'])"
   ]
  },
  {
   "cell_type": "code",
   "execution_count": null,
   "id": "6f83846e-3ea4-49fa-a192-11c1c496b5c3",
   "metadata": {},
   "outputs": [],
   "source": [
    "data_list.append(['Austria-Hungary'])"
   ]
  },
  {
   "cell_type": "code",
   "execution_count": null,
   "id": "d7766f30-f6d4-416b-9439-58c799e9fd50",
   "metadata": {},
   "outputs": [],
   "source": [
    "data_list.append(['Yugoslavia'])"
   ]
  },
  {
   "cell_type": "code",
   "execution_count": null,
   "id": "a27d34bf-ee87-4e14-9aa0-4ad32e952fe8",
   "metadata": {},
   "outputs": [],
   "source": [
    "data_list.append(['Czechoslovakia'])"
   ]
  },
  {
   "cell_type": "code",
   "execution_count": null,
   "id": "28c571b0-586c-47fd-b46c-6accb5207a42",
   "metadata": {},
   "outputs": [],
   "source": [
    "data_list.append(['Soviet Union'])"
   ]
  },
  {
   "cell_type": "code",
   "execution_count": null,
   "id": "4e4b3532-1f32-4ca9-8ae8-4c48ae85863d",
   "metadata": {},
   "outputs": [],
   "source": [
    "data_list.append(['Persia'])"
   ]
  },
  {
   "cell_type": "code",
   "execution_count": null,
   "id": "1ce18ab4-ae9d-4aef-974c-25ffee320d8b",
   "metadata": {
    "scrolled": true
   },
   "outputs": [],
   "source": [
    "data_list"
   ]
  },
  {
   "cell_type": "markdown",
   "id": "5f8946eb-84c1-4271-aa87-a229ec285934",
   "metadata": {},
   "source": [
    "### 3. Splitting sentence entities from the NER object"
   ]
  },
  {
   "cell_type": "code",
   "execution_count": null,
   "id": "9460c689-fce6-41ec-938c-ebf77e5c01ba",
   "metadata": {},
   "outputs": [],
   "source": [
    "df_sentences = []\n",
    "\n",
    "# Loop through sentences to get entity list for each sentence\n",
    "for sent in article.sents:\n",
    "    entity_list = [ent.text for ent in sent.ents]\n",
    "    df_sentences.append({'sentence': sent, 'entities': entity_list})\n",
    "\n",
    "df_sentences = pd.DataFrame(df_sentences)"
   ]
  },
  {
   "cell_type": "code",
   "execution_count": null,
   "id": "745faa75-00ea-400f-b125-23a7e2557dd9",
   "metadata": {},
   "outputs": [],
   "source": [
    "df_sentences.head()"
   ]
  },
  {
   "cell_type": "markdown",
   "id": "80d5d144-98b8-49b9-8c1c-d6397303d40e",
   "metadata": {},
   "source": [
    "### 4. Filtering entities"
   ]
  },
  {
   "cell_type": "code",
   "execution_count": null,
   "id": "ec3acd35-92c7-4046-b73c-779d0498af97",
   "metadata": {},
   "outputs": [],
   "source": [
    "# Import countries list as Dataframe\n",
    "\n",
    "df_countries = pd.DataFrame(data_list)"
   ]
  },
  {
   "cell_type": "code",
   "execution_count": null,
   "id": "0e36f22c-978c-4776-a79b-c7dd13d49691",
   "metadata": {},
   "outputs": [],
   "source": [
    "df_countries.head()"
   ]
  },
  {
   "cell_type": "code",
   "execution_count": null,
   "id": "00af645e-ffd0-40d6-92de-8f4b5a37e846",
   "metadata": {},
   "outputs": [],
   "source": [
    "df_countries.rename(columns = {0:'Country'}, inplace = True)"
   ]
  },
  {
   "cell_type": "code",
   "execution_count": null,
   "id": "c89b91e4-fa88-4999-b5c8-2a99451ebbe5",
   "metadata": {},
   "outputs": [],
   "source": [
    "df_countries.head()"
   ]
  },
  {
   "cell_type": "code",
   "execution_count": null,
   "id": "41703f8b-cf56-4751-995b-335a39ccb4be",
   "metadata": {},
   "outputs": [],
   "source": [
    "# Remove 'country_name' value\n",
    "\n",
    "df_countries.drop([0])"
   ]
  },
  {
   "cell_type": "code",
   "execution_count": null,
   "id": "24fc88c5-a184-45cd-ab62-b94309d906c3",
   "metadata": {},
   "outputs": [],
   "source": [
    "# Function to filter out entities not in the list of countries\n",
    "\n",
    "def filter_entity(ent_list, df_countries):\n",
    "    return[ent for ent in ent_list\n",
    "           if ent in list(df_countries['Country'])]"
   ]
  },
  {
   "cell_type": "code",
   "execution_count": null,
   "id": "ee093038-5e40-4cb6-bb6b-8680e113751c",
   "metadata": {},
   "outputs": [],
   "source": [
    "# Check\n",
    "\n",
    "filter_entity(['Germany', 'Circle', 'Orange'], df_countries)"
   ]
  },
  {
   "cell_type": "code",
   "execution_count": null,
   "id": "f51a9024-203b-4502-968e-f9cf31680de4",
   "metadata": {},
   "outputs": [],
   "source": [
    "# Pass sentence entities into filter,so that only entities of interest are returned\n",
    "\n",
    "df_sentences['country_entities'] = df_sentences['entities'].apply(lambda x: filter_entity(x, df_countries))"
   ]
  },
  {
   "cell_type": "code",
   "execution_count": null,
   "id": "e5ddc7f3-4607-40c3-8fe3-6e63bfb5f6c4",
   "metadata": {},
   "outputs": [],
   "source": [
    "# Filter out sentences that do not have any country entities\n",
    "\n",
    "df_sentences_filtered = df_sentences[df_sentences['country_entities'].map(len) > 0]\n",
    "\n",
    "df_sentences_filtered.head()"
   ]
  },
  {
   "cell_type": "markdown",
   "id": "4f966710-d1a8-4878-a3d0-ba922fe334db",
   "metadata": {},
   "source": [
    "### 5. Creating relationships dataframe"
   ]
  },
  {
   "cell_type": "code",
   "execution_count": null,
   "id": "fb73dc43-7cd5-4961-a888-6ae753fd44e1",
   "metadata": {},
   "outputs": [],
   "source": [
    "# Define relationships\n",
    "\n",
    "relationships = []\n",
    "\n",
    "for i in range(df_sentences_filtered.index[-1]):\n",
    "    end_i = min(i+5, df_sentences_filtered.index[-1])\n",
    "    country_list = sum((df_sentences_filtered.loc[i: end_i].country_entities), [])\n",
    "\n",
    "    # Remove duplicated characters that are adjacent to each other\n",
    "    country_unique = [country_list[i] for i in range(len(country_list))\n",
    "                  if (i==0) or country_list[i] != country_list[i-1]]\n",
    "\n",
    "    if len(country_unique) > 1:\n",
    "        for idx, a in enumerate(country_unique[:-1]):\n",
    "            b = country_unique[idx + 1]\n",
    "            relationships.append({'source': a, 'target': b})"
   ]
  },
  {
   "cell_type": "code",
   "execution_count": null,
   "id": "335eb348-cd67-4320-a3de-9d7eff1e92c3",
   "metadata": {},
   "outputs": [],
   "source": [
    "df_relationship = pd.DataFrame(relationships)"
   ]
  },
  {
   "cell_type": "code",
   "execution_count": null,
   "id": "60cac8a0-d780-4515-8aa7-897e3c09141d",
   "metadata": {},
   "outputs": [],
   "source": [
    "df_relationship"
   ]
  },
  {
   "cell_type": "code",
   "execution_count": null,
   "id": "fb099557-bd09-4db3-8b66-ae0efaac81c1",
   "metadata": {},
   "outputs": [],
   "source": [
    "# Sort cases with a- >b and b- >a\n",
    "\n",
    "df_relationships = pd.DataFrame(np.sort(df_relationship.values, axis = 1), columns = df_relationship.columns)\n",
    "\n",
    "df_relationships.head()"
   ]
  },
  {
   "cell_type": "code",
   "execution_count": null,
   "id": "e010067c-18e8-4ce8-afa6-018c14a691e1",
   "metadata": {},
   "outputs": [],
   "source": [
    "# Summarise interactions\n",
    "\n",
    "df_relationships['value'] = 1\n",
    "df_relationships = df_relationships.groupby(['source', 'target'], sort=False, as_index=False).sum()"
   ]
  },
  {
   "cell_type": "code",
   "execution_count": null,
   "id": "257e8990-64fa-47de-a434-fbc7a1859e22",
   "metadata": {},
   "outputs": [],
   "source": [
    "df_relationships.head()"
   ]
  },
  {
   "cell_type": "markdown",
   "id": "754c86ca-881e-4853-9551-7e594f852f3a",
   "metadata": {},
   "source": [
    "### 6. Exporting data"
   ]
  },
  {
   "cell_type": "code",
   "execution_count": null,
   "id": "7e455de6-4bde-4fb4-a3c4-81a863f26676",
   "metadata": {},
   "outputs": [],
   "source": [
    "# Export dataframe to csv file\n",
    "\n",
    "df_relationships.to_csv('countries_relationships.csv')"
   ]
  },
  {
   "cell_type": "code",
   "execution_count": null,
   "id": "ae4cabfd-e99f-4fdd-8659-7c237a39a646",
   "metadata": {},
   "outputs": [],
   "source": []
  }
 ],
 "metadata": {
  "kernelspec": {
   "display_name": "Python [conda env:venv_20thcentury] *",
   "language": "python",
   "name": "conda-env-venv_20thcentury-py"
  },
  "language_info": {
   "codemirror_mode": {
    "name": "ipython",
    "version": 3
   },
   "file_extension": ".py",
   "mimetype": "text/x-python",
   "name": "python",
   "nbconvert_exporter": "python",
   "pygments_lexer": "ipython3",
   "version": "3.9.20"
  }
 },
 "nbformat": 4,
 "nbformat_minor": 5
}
