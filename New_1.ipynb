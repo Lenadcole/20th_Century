{
 "cells": [
  {
   "cell_type": "markdown",
   "id": "e9cc5b14-a96e-4645-90d5-9a3abe1fb98b",
   "metadata": {},
   "source": [
    "# New notebook"
   ]
  },
  {
   "cell_type": "code",
   "execution_count": 2,
   "id": "7c002be2-adca-4e13-bdc4-ef45faefcad9",
   "metadata": {
    "tags": []
   },
   "outputs": [],
   "source": [
    "a = 2"
   ]
  },
  {
   "cell_type": "code",
   "execution_count": 6,
   "id": "34181c1f-1d13-4c62-bc1f-daefdd2b2d58",
   "metadata": {
    "tags": []
   },
   "outputs": [
    {
     "data": {
      "text/plain": [
       "4"
      ]
     },
     "execution_count": 6,
     "metadata": {},
     "output_type": "execute_result"
    }
   ],
   "source": [
    "a*a"
   ]
  },
  {
   "cell_type": "code",
   "execution_count": null,
   "id": "cba38ae1-e120-44be-96bc-138ed1265c9f",
   "metadata": {},
   "outputs": [],
   "source": []
  }
 ],
 "metadata": {
  "kernelspec": {
   "display_name": "Python [conda env:base] *",
   "language": "python",
   "name": "conda-base-py"
  },
  "language_info": {
   "codemirror_mode": {
    "name": "ipython",
    "version": 3
   },
   "file_extension": ".py",
   "mimetype": "text/x-python",
   "name": "python",
   "nbconvert_exporter": "python",
   "pygments_lexer": "ipython3",
   "version": "3.11.7"
  }
 },
 "nbformat": 4,
 "nbformat_minor": 5
}
